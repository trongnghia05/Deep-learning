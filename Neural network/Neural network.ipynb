{
 "cells": [
  {
   "cell_type": "code",
   "execution_count": 1,
   "metadata": {},
   "outputs": [],
   "source": [
    "import numpy as np\n",
    "import h5py\n",
    "import matplotlib.pyplot as plt\n",
    "from testCases_v4a import *\n",
    "import cv2\n",
    "import glob\n",
    "import matplotlib.pyplot as plt\n",
    "import os\n",
    "from PIL import Image\n",
    "import json\n",
    "import copy"
   ]
  },
  {
   "cell_type": "code",
   "execution_count": 2,
   "metadata": {},
   "outputs": [],
   "source": [
    "\"\"\"\n",
    "@author Trong Nghia\n",
    "\n",
    "\"\"\"\n",
    "def sigmoid(Z):\n",
    "    A = 1/(1+np.exp(-Z))\n",
    "    return A\n",
    "\n",
    "def relu(Z):\n",
    "    A = np.maximum(0,Z)\n",
    "    return A\n",
    "\n",
    "def relu_backward(dA, Z):\n",
    "    dZ = np.array(dA, copy=True) \n",
    "    dZ[Z <= 0] = 0 # nhung phần tử nhỏ hơn 0 trong Z sẽ được gán bằng 0 ở dZ, phần tử lớn hơn 0 ở Z thì giữ nguyên ở dZ\n",
    "    return dZ\n",
    "\n",
    "def sigmoid_backward(dA, Z):\n",
    "    f = 1/(1+np.exp(-Z))\n",
    "    dZ = dA * f * (1-f)\n",
    "    return dZ"
   ]
  },
  {
   "cell_type": "code",
   "execution_count": 32,
   "metadata": {},
   "outputs": [],
   "source": [
    "\"\"\"\n",
    "@author Trong Nghia\n",
    "\n",
    "Argument:\n",
    "- arr_layer: ví dụ: [128*128*3,3,1]\n",
    "\n",
    "returns:\n",
    "- vector w    shape(arr_layer[i],arr_layer[i-1])\n",
    "- integer b   shape(arr_layer[i], 1) có thể là shape(arr_layer[i], m)\n",
    "\n",
    "\"\"\"\n",
    "def init_parameter(arr_layer):\n",
    "    L = len(arr_layer)\n",
    "    parameters ={}\n",
    "    print(\"number of layers: \" + str(L))\n",
    "    print(\"number of layers with parameters: \" + str(L -1))\n",
    "    for i in range(1, L):\n",
    "        w = np.random.randn(arr_layer[i],arr_layer[i-1])*0.01\n",
    "        b = np.zeros((arr_layer[i],1))\n",
    "        parameters[\"W\" + str(i)] = w\n",
    "        parameters[\"b\" + str(i)] = b\n",
    "    return parameters"
   ]
  },
  {
   "cell_type": "code",
   "execution_count": 7,
   "metadata": {},
   "outputs": [],
   "source": [
    "\"\"\"\n",
    "@author Trong Nghia\n",
    "\n",
    "Arguments:\n",
    "- X dữ liệu train               shape(arr_layer[0],m)\n",
    "- parameters: array chứa các tham số (W, b) của các lớp \n",
    "- activatie_param_setting: array chứa kiểu hàm kích hoạt của các lớp\n",
    "\n",
    "returns:\n",
    "- AL: giá trị mô hình dự đoán    shape(1,m)\n",
    "- caches: array chứa tham số (A_prev, W, b, Z) của các lớp size sẽ là số lượng lớp có tham số(không bao gồm lớp input)\n",
    "\n",
    "\"\"\"\n",
    "def foward_propagation(X, parameters, activatie_param_setting):\n",
    "    caches = []\n",
    "    A_prev = X\n",
    "    L = len(parameters) // 2 + 1\n",
    "    for i in range(1,L):\n",
    "        W = parameters[\"W\" + str(i)]\n",
    "        b = parameters[\"b\" + str(i)]\n",
    "        Z = np.dot(W, A_prev) + b\n",
    "        if activatie_param_setting[i-1] == \"relu\":\n",
    "            AL = relu(Z)\n",
    "        elif activatie_param_setting[i-1] == \"sigmoid\":\n",
    "            AL = sigmoid(Z)\n",
    "        \n",
    "        cache =  (A_prev, W, b, Z)\n",
    "        A_prev = AL\n",
    "        caches.append(cache)\n",
    "        \n",
    "    return AL, caches"
   ]
  },
  {
   "cell_type": "code",
   "execution_count": 8,
   "metadata": {},
   "outputs": [],
   "source": [
    "\"\"\"\n",
    "@author Trong Nghia\n",
    "\n",
    "Arguments:\n",
    "- AL giá trị mô hình dự đoán   shape(1,m)\n",
    "- Y: nhãn dữ liệu train        shape(1,m)\n",
    "- caches: array chứa tham số (A_prev, W, b, Z) của các lớp size sẽ là số lượng lớp có tham số(không bao gồm lớp input)\n",
    "- activatie_param_setting: array chứa kiểu hàm kích hoạt của các lớp\n",
    "\n",
    "returns:\n",
    "- grads: array chứa đạo hàm của các tham số (dA_prev, dW, db, dZ) của các lớp size sẽ là số lượng lớp có tham số(không bao gồm lớp input)\n",
    "\n",
    "\"\"\"\n",
    "def back_propagation(AL, Y, caches, activatie_param_setting):\n",
    "    m = Y.shape[1]\n",
    "    dA = (AL-Y)/(AL*(1-AL))\n",
    "    L = len(caches)\n",
    "    Y = Y.reshape(AL.shape)\n",
    "    grads = {}\n",
    "    for i in reversed(range(L)):\n",
    "        A_prev, W, b, Z = caches[i]\n",
    "        if activatie_param_setting[i] == \"sigmoid\":\n",
    "            dZ = sigmoid_backward(dA,Z)\n",
    "            dA_prev = np.dot(W.T, dZ)\n",
    "            dW = np.dot(dZ,A_prev.T)/m\n",
    "            db = np.sum(dZ, axis=1, keepdims =True)/m\n",
    "            grads[\"dA\" + str(i)] = dA_prev\n",
    "            grads[\"dW\" + str(i+1)] = dW\n",
    "            grads[\"db\" + str(i+1)] = db\n",
    "            grads[\"dZ\" + str(i+1)] = dZ\n",
    "        elif activatie_param_setting[i] == \"relu\":\n",
    "            dZ = relu_backward(dA,Z)\n",
    "            dA_prev = np.dot(W.T, dZ)\n",
    "            dW = np.dot(dZ,A_prev.T)/m\n",
    "            db = np.sum(dZ, axis=1, keepdims =True)/m\n",
    "            grads[\"dA\" + str(i)] = dA_prev\n",
    "            grads[\"dW\" + str(i+1)] = dW\n",
    "            grads[\"db\" + str(i+1)] = db\n",
    "            grads[\"dZ\" + str(i+1)] = dZ\n",
    "        dA = dA_prev\n",
    "    return grads"
   ]
  },
  {
   "cell_type": "code",
   "execution_count": 11,
   "metadata": {},
   "outputs": [],
   "source": [
    "\"\"\"\n",
    "@author Trong Nghia\n",
    "\n",
    "Arguments:\n",
    "- parameters: array chứa các tham số sau mỗi epoch(sau quá trình tính xuôi và tính ngược)\n",
    "- grads: array chứa đạo hàm của các tham số (dA_prev, dW, db, dZ) của các lớp size sẽ là số lượng lớp có tham số(không bao gồm lớp input)\n",
    "- learning_rate: là tốc độ học của mô hình\n",
    "\n",
    "returns:\n",
    "- parameters: array chứa các tham số sau khi được cập nhật\n",
    "\n",
    "\"\"\"\n",
    "def update_parameter(parameters, grads, learning_rate):\n",
    "    L = len(parameters) // 2\n",
    "    for i in range(L):\n",
    "        parameters[\"W\" + str(i+1)] = parameters[\"W\" + str(i+1)] - learning_rate*grads[\"dW\" + str(i+1)]\n",
    "        parameters[\"b\" + str(i+1)] = parameters[\"b\" + str(i+1)] - learning_rate*grads[\"db\" + str(i+1)]\n",
    "    return parameters"
   ]
  },
  {
   "cell_type": "code",
   "execution_count": 9,
   "metadata": {},
   "outputs": [],
   "source": [
    "\"\"\"\n",
    "@author Trong Nghia\n",
    "\n",
    "Arguments:\n",
    "- AL: là giá trị dự đoán của mô hình               shape(1, m)\n",
    "- Y: là giá trị thực (nhãn) của các điểm dữ liệu   shape(1, m)\n",
    "\n",
    "returns:\n",
    "- cost: là giá trị loss\n",
    "\n",
    "\"\"\"\n",
    "def compute_cost(AL, Y):\n",
    "    m = Y.shape[1]\n",
    "    cost = -np.sum((Y*np.log(AL)) + (1 - Y)*np.log(1-AL))/m\n",
    "    cost = np.squeeze(cost)\n",
    "    return cost"
   ]
  },
  {
   "cell_type": "code",
   "execution_count": 70,
   "metadata": {},
   "outputs": [],
   "source": [
    "\"\"\"\n",
    "@author Trong Nghia\n",
    "\n",
    "Arguments:\n",
    "- X: là dự liệu input          shape(arr_layer[0],m)\n",
    "- Y: nhãn dữ liệu train        shape(1,m)\n",
    "- parameters: array chứa các tham số khởi tạo của các lớp (W ,b)\n",
    "- activatie_param_setting: array chứa kiểu hàm kích hoạt của các lớp\n",
    "- epoch: số lần lặp\n",
    "- learning_rate: tốc độ học\n",
    "\n",
    "returns:\n",
    "- costs: array chứa giá trị loss của mỗi 100 lần lặp\n",
    "- arr_epoch: array chứa số thứ tự của lần lặp lưu giá trị loss\n",
    "- model: dictionary chứa giá trị tham số (W, b) của mô hình tại mỗi 100 lần lặp(cứ mỗi 100 lần lặp lại lưu các giá trị mô hình lại)\n",
    "\n",
    "\"\"\"\n",
    "def fit(X, Y, parameters, activatie_param_setting, epoch, learning_rate):\n",
    "    costs = []\n",
    "    model = {}\n",
    "    arr_epoch = np.arange(1,epoch+1,100)\n",
    "    for i in range(epoch):\n",
    "        AL, caches = foward_propagation(X, parameters, activatie_param_setting)\n",
    "        cost = compute_cost(AL, Y)\n",
    "        grads = back_propagation(AL, Y, caches, activatie_param_setting)\n",
    "        parameters = update_parameter(parameters, grads, learning_rate)\n",
    "        if i % 100 == 0:\n",
    "            print(\"cost epoch \"+str(i)+ \": \" + str(cost))\n",
    "            model[str(i)] = copy.deepcopy(parameters)\n",
    "            costs.append(cost)\n",
    "    return costs, arr_epoch, model"
   ]
  },
  {
   "cell_type": "code",
   "execution_count": 17,
   "metadata": {},
   "outputs": [],
   "source": [
    "\"\"\"\n",
    "@author Trong Nghia\n",
    "\n",
    "Arguments:\n",
    "- X: là dự liệu input          shape(arr_layer[0],m)\n",
    "- parameters: array chứa các tham số khởi tạo của các lớp (W ,b)\n",
    "- activatie_param_setting: array chứa kiểu hàm kích hoạt của các lớp\n",
    "\n",
    "returns:\n",
    "- label_predict: nhãn dự đoán của mô hình\n",
    "- num_label_1: số lượng ảnh là nhãn 1\n",
    "- num_label_0: số lượng ảnh là nhãn 0\n",
    "\n",
    "\"\"\"\n",
    "def predict(X, parameters, activatie_param_setting):\n",
    "    AL, caches = foward_propagation(X, parameters, activatie_param_setting)\n",
    "    label_predict = np.zeros((1,AL.shape[1]))\n",
    "    num_label_1 = 0\n",
    "    num_label_0 = 0\n",
    "    for i in range(AL.shape[1]):\n",
    "        if(AL[0][i] > 0.5):\n",
    "            label_predict[0][i] = 1\n",
    "            num_label_1 +=1\n",
    "        elif(AL[0][i] == 0.5):\n",
    "            label_predict[0][i] = 0.5\n",
    "        else:\n",
    "            label_predict[0][i] = 0\n",
    "            num_label_0 += 1\n",
    "    return label_predict, num_label_1, num_label_0"
   ]
  },
  {
   "cell_type": "code",
   "execution_count": 12,
   "metadata": {},
   "outputs": [],
   "source": [
    "\"\"\"\n",
    "@author Trong Nghia\n",
    "\n",
    "\"\"\"\n",
    "def load_config(path_file_config):\n",
    "    with open(path_file_config) as file_object:\n",
    "        config_data = json.load(file_object)\n",
    "        return config_data"
   ]
  },
  {
   "cell_type": "code",
   "execution_count": 13,
   "metadata": {},
   "outputs": [],
   "source": [
    "\"\"\"\n",
    "@author Trong Nghia\n",
    "\n",
    "\"\"\"\n",
    "def load_label(path_foder_data, path_foder_label_json):\n",
    "    data_path = os.path.join(path_foder_data,'*jpg')\n",
    "    files = glob.glob(data_path)\n",
    "    with open(path_foder_label_json) as file_object:\n",
    "        label_all = json.load(file_object)\n",
    "        return label_all"
   ]
  },
  {
   "cell_type": "code",
   "execution_count": 14,
   "metadata": {},
   "outputs": [],
   "source": [
    "\"\"\"\n",
    "@author Trong Nghia\n",
    "\n",
    "\"\"\"\n",
    "def load_data(path_dir_data, path_dir_data_label , image_widght, image_height, chanel):\n",
    "    label_all = load_label(path_dir_data, path_dir_data_label)\n",
    "    data_path = os.path.join(path_dir_data,'*jpg')\n",
    "    files = glob.glob(data_path)\n",
    "    number_items = len(files)\n",
    "    data1 = []\n",
    "    data = np.zeros((number_items,image_widght,image_height, chanel))\n",
    "    data_label = np.zeros((1,number_items))\n",
    "    for i in range(number_items):\n",
    "        img = cv2.imread(files[i])\n",
    "        data2 = files[i].split('\\\\')\n",
    "        name_image = data2[len(data2)-1]\n",
    "        data_label[0][i] = label_all[\"data\"][name_image][\"label\"]\n",
    "        data1.append(img)\n",
    "    images = np.asarray(data1)\n",
    "    for i in range(images.shape[0]):\n",
    "        data[i]= images[i]/255#khi gan bien sang kieu mang numpy, cac phan tu se tu dong chuyen sang kieu float ma cac pixel anh o kieu float chi tu 0->1 nen phai chia cho 255 de dam bao cac pixel anh kieu float nam trong [0,1]\n",
    "    return data, data_label"
   ]
  },
  {
   "cell_type": "code",
   "execution_count": 15,
   "metadata": {},
   "outputs": [],
   "source": [
    "\"\"\"\n",
    "@author Trong Nghia\n",
    "\n",
    "\"\"\"\n",
    "def standardized_image_test(path_dir_data, image_widght, image_height, chanel):\n",
    "    data_path = os.path.join(path_dir_data,'*jpg')\n",
    "    files = glob.glob(data_path)\n",
    "    number_items = len(files)\n",
    "    data1 = []\n",
    "    data = np.zeros((number_items,image_widght,image_height, chanel))\n",
    "    for i in range(number_items):\n",
    "        img = cv2.imread(files[i])\n",
    "        data2 = files[i].split('\\\\')\n",
    "        data1.append(img)\n",
    "    images = np.asarray(data1)\n",
    "    for i in range(images.shape[0]):\n",
    "        data[i]= images[i]/255#khi gan bien kieu numpy cac phan tu se tu dong chuyen sang kieu float ma cac pixel anh o kieu float chi tu 0->1 nen phai chia cho 255 de dam bao cac pixel anh kieu float nam trong [0,1]\n",
    "    return data"
   ]
  },
  {
   "cell_type": "code",
   "execution_count": 121,
   "metadata": {},
   "outputs": [],
   "source": [
    "\"\"\"\n",
    "@author Trong Nghia\n",
    "\n",
    "\"\"\"\n",
    "#load file cấu hình\n",
    "PATH_FILE_CONFIG = \"C:\\\\Users\\\\Trong Nghia\\\\AppData\\\\Local\\\\Programs\\\\Python\\\\Python36\\\\Scripts\\\\Jupyter file code\\\\Neural network\\\\config.json\"\n",
    "CONFIG = load_config(PATH_FILE_CONFIG)\n",
    "IMAGE_WIDGHT = CONFIG[\"config\"][\"IMAGE_WIDGHT\"]\n",
    "IMAGE_HEIGHT = CONFIG[\"config\"][\"IMAGE_HEIGHT\"]\n",
    "CHANEL = CONFIG[\"config\"][\"CHANEL\"]\n",
    "EPOCH = CONFIG[\"config\"][\"EPOCH\"]\n",
    "LEARNING_RATE = CONFIG[\"config\"][\"LEARNING_RATE\"]\n",
    "PATH_FODER_DATA = CONFIG[\"config\"][\"PATH_FODER_DATA\"]\n",
    "PATH_FILE_LABEL = CONFIG[\"config\"][\"PATH_FILE_LABEL\"]\n",
    "PATH_FODER_IMAGE_TEST = CONFIG[\"config\"][\"PATH_FODER_IMAGE_TEST\"]"
   ]
  },
  {
   "cell_type": "code",
   "execution_count": 20,
   "metadata": {},
   "outputs": [],
   "source": [
    "\"\"\"\n",
    "@author Trong Nghia\n",
    "\n",
    "\"\"\"\n",
    "data_train, data_label = load_data(PATH_FODER_DATA, PATH_FILE_LABEL, IMAGE_WIDGHT, IMAGE_HEIGHT, CHANEL)\n",
    "X = data_train.reshape(data_train.shape[0], -1).T #shape (a,b,c,d) => shape (b*c*d,a)"
   ]
  },
  {
   "cell_type": "code",
   "execution_count": 122,
   "metadata": {},
   "outputs": [],
   "source": [
    "\"\"\"\n",
    "@author Trong Nghia\n",
    "\n",
    "\"\"\"\n",
    "#load dữ liệu test shape(m,image_widght,image_height,chanel)\n",
    "X_TEST = standardized_image_test(PATH_FODER_IMAGE_TEST,IMAGE_WIDGHT, IMAGE_HEIGHT, CHANEL)"
   ]
  },
  {
   "cell_type": "code",
   "execution_count": 123,
   "metadata": {},
   "outputs": [],
   "source": [
    "\"\"\"\n",
    "@author Trong Nghia\n",
    "\n",
    "\"\"\"\n",
    "#chuẩn hóa dữ liệu cho model predict shape(image_widght*image_height*chanel,m)\n",
    "X_TEST_STANDARD = X_TEST.reshape(X_TEST.shape[0], -1).T #shape (a,b,c,d) => shape (b*c*d,a)"
   ]
  },
  {
   "cell_type": "code",
   "execution_count": 99,
   "metadata": {},
   "outputs": [
    {
     "name": "stdout",
     "output_type": "stream",
     "text": [
      "numer layer: 3\n",
      "numer layer param: 2\n",
      "Length of caches list = 2lengt AL: (1, 600)\n"
     ]
    }
   ],
   "source": [
    "\"\"\"\n",
    "@author Trong Nghia\n",
    "\n",
    "\"\"\"\n",
    "parameters = init_parameter([X.shape[0],3,1])\n",
    "activatie_param_setting = [\"relu\", \"sigmoid\"]\n",
    "AL, caches = foward_propagation(X, parameters, activatie_param_setting)\n",
    "print(\"Length of caches list = \" + str(len(caches)) + \"lengt AL: \" +str(AL.shape))"
   ]
  },
  {
   "cell_type": "code",
   "execution_count": 100,
   "metadata": {},
   "outputs": [
    {
     "name": "stdout",
     "output_type": "stream",
     "text": [
      "cost epoch 0: 0.6931033344392669\n",
      "cost epoch 100: 0.6929530335053458\n",
      "cost epoch 200: 0.6926258008504139\n",
      "cost epoch 300: 0.6917693184755467\n",
      "cost epoch 400: 0.689081224462\n",
      "cost epoch 500: 0.6823422732113442\n",
      "cost epoch 600: 0.6680225397404507\n",
      "cost epoch 700: 0.6474355768760884\n",
      "cost epoch 800: 0.6236892087627092\n",
      "cost epoch 900: 0.5971826246349531\n",
      "cost epoch 1000: 0.5763176958403936\n",
      "cost epoch 1100: 0.5369164726460135\n",
      "cost epoch 1200: 0.5130982308013959\n",
      "cost epoch 1300: 0.47475464642613086\n",
      "cost epoch 1400: 0.4813281430953153\n",
      "cost epoch 1500: 0.4535128647401952\n",
      "cost epoch 1600: 0.48789891176510547\n",
      "cost epoch 1700: 0.3870431187941393\n",
      "cost epoch 1800: 0.45445451845792056\n",
      "cost epoch 1900: 0.5563090426004398\n",
      "cost epoch 2000: 0.3215421528550888\n",
      "cost epoch 2100: 0.3032668880764896\n",
      "cost epoch 2200: 0.3338315391051563\n",
      "cost epoch 2300: 0.32613481820381673\n",
      "cost epoch 2400: 0.3207915117254248\n",
      "cost epoch 2500: 0.2723740863916043\n",
      "cost epoch 2600: 0.22866661706736713\n",
      "cost epoch 2700: 0.212240132365459\n",
      "cost epoch 2800: 0.27065608684536663\n",
      "cost epoch 2900: 0.25339053769599623\n",
      "cost epoch 3000: 0.23613779067752916\n",
      "cost epoch 3100: 0.23473890992923582\n",
      "cost epoch 3200: 0.22981609542719753\n",
      "cost epoch 3300: 0.15857335497247524\n",
      "cost epoch 3400: 0.1605666509160043\n",
      "cost epoch 3500: 0.12843860473371269\n",
      "cost epoch 3600: 0.11782242499244089\n",
      "cost epoch 3700: 0.11406919205135632\n",
      "cost epoch 3800: 0.10500534188172601\n",
      "cost epoch 3900: 0.09809324988721904\n",
      "cost epoch 4000: 0.09399506108485545\n",
      "cost epoch 4100: 0.08837016481138321\n",
      "cost epoch 4200: 0.08644565146166149\n",
      "cost epoch 4300: 0.08295159265892758\n",
      "cost epoch 4400: 0.08393890189558716\n",
      "cost epoch 4500: 0.07549428350960212\n",
      "cost epoch 4600: 0.07785415296772627\n",
      "cost epoch 4700: 0.07076546629303096\n",
      "cost epoch 4800: 0.07172790400274565\n",
      "cost epoch 4900: 0.06631772265262605\n",
      "cost epoch 5000: 0.0634296486437284\n",
      "cost epoch 5100: 0.06384711401710141\n",
      "cost epoch 5200: 0.060064450444796524\n",
      "cost epoch 5300: 0.05812912842858111\n",
      "cost epoch 5400: 0.05821120653226986\n",
      "cost epoch 5500: 0.05588059175779178\n",
      "cost epoch 5600: 0.05750032519235268\n",
      "cost epoch 5700: 0.05267523929612052\n",
      "cost epoch 5800: 0.05125198286588042\n",
      "cost epoch 5900: 0.050981839681049405\n",
      "cost epoch 6000: 0.0487949194345841\n",
      "cost epoch 6100: 0.04931507924811535\n",
      "cost epoch 6200: 0.04927575568248487\n",
      "cost epoch 6300: 0.04739713740608644\n",
      "cost epoch 6400: 0.04802164348485588\n",
      "cost epoch 6500: 0.0445199298916808\n",
      "cost epoch 6600: 0.044811694269305584\n",
      "cost epoch 6700: 0.04235847043714163\n",
      "cost epoch 6800: 0.04195516110778718\n",
      "cost epoch 6900: 0.0407638140073833\n",
      "cost epoch 7000: 0.039988537586435474\n",
      "cost epoch 7100: 0.039890250031586104\n",
      "cost epoch 7200: 0.03865430783476875\n",
      "cost epoch 7300: 0.03894966261672343\n",
      "cost epoch 7400: 0.03850745090020708\n",
      "cost epoch 7500: 0.037853519403021355\n",
      "cost epoch 7600: 0.036370040308065746\n",
      "cost epoch 7700: 0.03598846246147714\n",
      "cost epoch 7800: 0.03578557844142068\n",
      "cost epoch 7900: 0.03670598035161806\n",
      "cost epoch 8000: 0.03483819847345522\n",
      "cost epoch 8100: 0.03417159078528943\n",
      "cost epoch 8200: 0.03343974280043867\n",
      "cost epoch 8300: 0.033128069477285076\n",
      "cost epoch 8400: 0.032859305299631034\n",
      "cost epoch 8500: 0.032108379909546736\n",
      "cost epoch 8600: 0.03196311029363584\n",
      "cost epoch 8700: 0.031376449702229796\n",
      "cost epoch 8800: 0.030935761505550167\n",
      "cost epoch 8900: 0.0306028705317652\n",
      "cost epoch 9000: 0.030268134574315705\n",
      "cost epoch 9100: 0.030526164469811223\n",
      "cost epoch 9200: 0.029660611175546876\n",
      "cost epoch 9300: 0.029224204906569747\n",
      "cost epoch 9400: 0.02939771229276381\n",
      "cost epoch 9500: 0.028862884194812033\n",
      "cost epoch 9600: 0.02901523796551454\n",
      "cost epoch 9700: 0.028450193748409767\n",
      "cost epoch 9800: 0.027929090095220654\n",
      "cost epoch 9900: 0.0278927288860774\n"
     ]
    }
   ],
   "source": [
    "\"\"\"\n",
    "@author Trong Nghia\n",
    "\n",
    "\"\"\"\n",
    "costs, arr_epoch, model = fit(X, data_label, parameters, activatie_param_setting, 10000, 0.0075)"
   ]
  },
  {
   "cell_type": "code",
   "execution_count": 124,
   "metadata": {},
   "outputs": [],
   "source": [
    "Y_PREDICT, num_label_1, num_label_0 = predict(X_TEST_STANDARD, model[\"9900\"], activatie_param_setting)"
   ]
  },
  {
   "cell_type": "code",
   "execution_count": 125,
   "metadata": {},
   "outputs": [
    {
     "name": "stdout",
     "output_type": "stream",
     "text": [
      "nhãn của dữ đoán của tập test:\n",
      "[[1. 0. 1. 1. 1. 1. 1. 1. 1. 0. 1. 1. 0. 0. 1. 1. 1. 0. 1. 1. 1. 1. 1. 1.\n",
      "  0. 1. 1. 1. 0. 1. 1. 0. 1. 1. 1. 1. 0. 1. 0. 1. 1. 1. 1. 0. 1. 1. 1. 1.\n",
      "  0. 1.]]\n",
      "\n",
      "\n",
      "số ảnh dự đoán là nhãn 1(cat):38\n",
      "số ảnh dự đoán là nhãn 0(dog):12\n"
     ]
    }
   ],
   "source": [
    "\"\"\"\n",
    "@author Trong Nghia\n",
    "\n",
    "\"\"\"\n",
    "print(\"nhãn của dữ đoán của tập test:\\n\" + str(Y_PREDICT) +\"\\n\\n\")\n",
    "print(\"số ảnh dự đoán là nhãn 1(cat):\" + str(num_label_1))\n",
    "print(\"số ảnh dự đoán là nhãn 0(dog):\" + str(num_label_0))"
   ]
  },
  {
   "cell_type": "code",
   "execution_count": 126,
   "metadata": {},
   "outputs": [
    {
     "name": "stdout",
     "output_type": "stream",
     "text": [
      "nhãn dự đoán: 0.0\n"
     ]
    },
    {
     "data": {
      "image/png": "[encoded data removed]",
      "text/plain": [
       "<Figure size 432x288 with 1 Axes>"
      ]
     },
     "metadata": {
      "needs_background": "light"
     },
     "output_type": "display_data"
    }
   ],
   "source": [
    "\"\"\"\n",
    "@author Trong Nghia\n",
    "\n",
    "\"\"\"\n",
    "#hiển thị ảnh test\n",
    "plt.imshow(X_TEST[9])\n",
    "#hiển thị nhãn của ảnh test\n",
    "print(\"nhãn dự đoán: \"+ str(Y_PREDICT[0][9]))"
   ]
  },
  {
   "cell_type": "code",
   "execution_count": 128,
   "metadata": {},
   "outputs": [
    {
     "data": {
      "image/png": "[encoded data removed]",
      "text/plain": [
       "<Figure size 432x288 with 1 Axes>"
      ]
     },
     "metadata": {
      "needs_background": "light"
     },
     "output_type": "display_data"
    }
   ],
   "source": [
    "\"\"\"\n",
    "@author Trong Nghia\n",
    "\n",
    "\"\"\"\n",
    "plt.plot(arr_epoch,costs, label='Python')\n",
    "plt.title('giá trị cost qua các vòng lặp')\n",
    "plt.xlabel('X')\n",
    "plt.ylabel('Y')\n",
    "plt.ylim(0,0.8)\n",
    "plt.xlim(0,10100)\n",
    "plt.show()"
   ]
  }
 ],
 "metadata": {
  "kernelspec": {
   "display_name": "Python 3",
   "language": "python",
   "name": "python3"
  },
  "language_info": {
   "codemirror_mode": {
    "name": "ipython",
    "version": 3
   },
   "file_extension": ".py",
   "mimetype": "text/x-python",
   "name": "python",
   "nbconvert_exporter": "python",
   "pygments_lexer": "ipython3",
   "version": "3.6.1"
  }
 },
 "nbformat": 4,
 "nbformat_minor": 4
}
